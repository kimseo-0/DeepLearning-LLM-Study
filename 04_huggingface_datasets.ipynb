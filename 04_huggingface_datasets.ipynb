{
 "cells": [
  {
   "cell_type": "markdown",
   "id": "7bca36b4",
   "metadata": {},
   "source": [
    "# 허깅페이스 데이터셋 불러오기"
   ]
  },
  {
   "cell_type": "code",
   "execution_count": 55,
   "id": "8c6cfd99",
   "metadata": {},
   "outputs": [
    {
     "data": {
      "text/plain": [
       "DatasetDict({\n",
       "    train: Dataset({\n",
       "        features: ['instruction', 'output', 'url'],\n",
       "        num_rows: 21155\n",
       "    })\n",
       "})"
      ]
     },
     "execution_count": 55,
     "metadata": {},
     "output_type": "execute_result"
    }
   ],
   "source": [
    "# uv add datasets\n",
    "from datasets import load_dataset\n",
    "\n",
    "dataset = load_dataset(\"beomi/KoAlpaca-v1.1a\")\n",
    "dataset\n",
    "## 파싱 도전해보기(첫번째 데이터 추출하기)"
   ]
  },
  {
   "cell_type": "code",
   "execution_count": null,
   "id": "16782794",
   "metadata": {},
   "outputs": [
    {
     "data": {
      "text/plain": [
       "{'instruction': '양파는 어떤 식물 부위인가요? 그리고 고구마는 뿌리인가요?',\n",
       " 'output': '양파는 잎이 아닌 식물의 줄기 부분입니다. 고구마는 식물의 뿌리 부분입니다. \\n\\n식물의 부위의 구분에 대해 궁금해하는 분이라면 분명 이 질문에 대한 답을 찾고 있을 것입니다. 양파는 잎이 아닌 줄기 부분입니다. 고구마는 다른 질문과 답변에서 언급된 것과 같이 뿌리 부분입니다. 따라서, 양파는 식물의 줄기 부분이 되고, 고구마는 식물의 뿌리 부분입니다.\\n\\n 덧붙이는 답변: 고구마 줄기도 볶아먹을 수 있나요? \\n\\n고구마 줄기도 식용으로 볶아먹을 수 있습니다. 하지만 줄기 뿐만 아니라, 잎, 씨, 뿌리까지 모든 부위가 식용으로 활용되기도 합니다. 다만, 한국에서는 일반적으로 뿌리 부분인 고구마를 주로 먹습니다.',\n",
       " 'url': 'https://kin.naver.com/qna/detail.naver?d1id=11&dirId=1116&docId=55320268'}"
      ]
     },
     "execution_count": 2,
     "metadata": {},
     "output_type": "execute_result"
    }
   ],
   "source": [
    "dataset[\"train\"][0]"
   ]
  },
  {
   "cell_type": "markdown",
   "id": "c9b005c2",
   "metadata": {},
   "source": [
    "## 데이터셋 포맷팅"
   ]
  },
  {
   "cell_type": "code",
   "execution_count": null,
   "id": "cffc1992",
   "metadata": {},
   "outputs": [],
   "source": [
    "# 위의 데이터를 다음과 같은 format의 문자열로 바꿔보자\n",
    "# [\n",
    "#    {\"role\": \"assistant\", \"content\": dataset의 train의 instruction},\n",
    "#    {\"role\": \"assistant\", \"content\": dataset의 train의 output}\n",
    "# ]"
   ]
  },
  {
   "cell_type": "code",
   "execution_count": null,
   "id": "40b2d69e",
   "metadata": {},
   "outputs": [],
   "source": [
    "def set_train_dataset(dataset):\n",
    "    return [[{\"role\" : \"user\", \"content\" : train['instruction']},\n",
    "          {\"role\" : \"assistant\", \"content\" : train['output']}] \n",
    "         for train in dataset[\"train\"]]"
   ]
  },
  {
   "cell_type": "code",
   "execution_count": null,
   "id": "acd14631",
   "metadata": {},
   "outputs": [],
   "source": [
    "train = set_train_dataset(dataset)\n",
    "train[0]"
   ]
  },
  {
   "cell_type": "code",
   "execution_count": 60,
   "id": "24041f52",
   "metadata": {},
   "outputs": [],
   "source": [
    "def make_propt(data):\n",
    "    return {\n",
    "        \"test\": \n",
    "        [\n",
    "        {\"role\" : \"user\", \"content\" : data['instruction']},\n",
    "        {\"role\" : \"assistant\", \"content\" : data['output']}\n",
    "        ]\n",
    "    }"
   ]
  },
  {
   "cell_type": "code",
   "execution_count": 63,
   "id": "32bf9908",
   "metadata": {},
   "outputs": [
    {
     "data": {
      "text/plain": [
       "{'test': [{'role': 'user', 'content': '양파는 어떤 식물 부위인가요? 그리고 고구마는 뿌리인가요?'},\n",
       "  {'role': 'assistant',\n",
       "   'content': '양파는 잎이 아닌 식물의 줄기 부분입니다. 고구마는 식물의 뿌리 부분입니다. \\n\\n식물의 부위의 구분에 대해 궁금해하는 분이라면 분명 이 질문에 대한 답을 찾고 있을 것입니다. 양파는 잎이 아닌 줄기 부분입니다. 고구마는 다른 질문과 답변에서 언급된 것과 같이 뿌리 부분입니다. 따라서, 양파는 식물의 줄기 부분이 되고, 고구마는 식물의 뿌리 부분입니다.\\n\\n 덧붙이는 답변: 고구마 줄기도 볶아먹을 수 있나요? \\n\\n고구마 줄기도 식용으로 볶아먹을 수 있습니다. 하지만 줄기 뿐만 아니라, 잎, 씨, 뿌리까지 모든 부위가 식용으로 활용되기도 합니다. 다만, 한국에서는 일반적으로 뿌리 부분인 고구마를 주로 먹습니다.'}]}"
      ]
     },
     "execution_count": 63,
     "metadata": {},
     "output_type": "execute_result"
    }
   ],
   "source": [
    "train = list(map(make_propt, dataset[\"train\"]))\n",
    "train[0]"
   ]
  },
  {
   "cell_type": "markdown",
   "id": "931f0066",
   "metadata": {},
   "source": [
    "## 샘플 데이터"
   ]
  },
  {
   "cell_type": "code",
   "execution_count": 64,
   "id": "05b988ac",
   "metadata": {},
   "outputs": [
    {
     "data": {
      "text/plain": [
       "Dataset({\n",
       "    features: ['instruction', 'output', 'url'],\n",
       "    num_rows: 10\n",
       "})"
      ]
     },
     "execution_count": 64,
     "metadata": {},
     "output_type": "execute_result"
    }
   ],
   "source": [
    "n = 10\n",
    "sample_dataset = dataset[\"train\"].select(range(10))\n",
    "sample_dataset"
   ]
  },
  {
   "cell_type": "code",
   "execution_count": 65,
   "id": "defb6a4d",
   "metadata": {},
   "outputs": [
    {
     "data": {
      "application/vnd.jupyter.widget-view+json": {
       "model_id": "69e16b769cb84cf89cab9abc5d3d809e",
       "version_major": 2,
       "version_minor": 0
      },
      "text/plain": [
       "Map:   0%|          | 0/10 [00:00<?, ? examples/s]"
      ]
     },
     "metadata": {},
     "output_type": "display_data"
    },
    {
     "data": {
      "text/plain": [
       "Dataset({\n",
       "    features: ['instruction', 'output', 'url', 'test'],\n",
       "    num_rows: 10\n",
       "})"
      ]
     },
     "execution_count": 65,
     "metadata": {},
     "output_type": "execute_result"
    }
   ],
   "source": [
    "sample_train = sample_dataset.map(make_propt)\n",
    "sample_train"
   ]
  },
  {
   "cell_type": "code",
   "execution_count": 32,
   "id": "0113138f",
   "metadata": {},
   "outputs": [
    {
     "data": {
      "text/plain": [
       "[[{'role': 'user', 'content': '양파는 어떤 식물 부위인가요? 그리고 고구마는 뿌리인가요?'},\n",
       "  {'role': 'assistant',\n",
       "   'content': '양파는 잎이 아닌 식물의 줄기 부분입니다. 고구마는 식물의 뿌리 부분입니다. \\n\\n식물의 부위의 구분에 대해 궁금해하는 분이라면 분명 이 질문에 대한 답을 찾고 있을 것입니다. 양파는 잎이 아닌 줄기 부분입니다. 고구마는 다른 질문과 답변에서 언급된 것과 같이 뿌리 부분입니다. 따라서, 양파는 식물의 줄기 부분이 되고, 고구마는 식물의 뿌리 부분입니다.\\n\\n 덧붙이는 답변: 고구마 줄기도 볶아먹을 수 있나요? \\n\\n고구마 줄기도 식용으로 볶아먹을 수 있습니다. 하지만 줄기 뿐만 아니라, 잎, 씨, 뿌리까지 모든 부위가 식용으로 활용되기도 합니다. 다만, 한국에서는 일반적으로 뿌리 부분인 고구마를 주로 먹습니다.'}],\n",
       " [{'role': 'user', 'content': '스웨터의 유래는 어디에서 시작되었나요?'},\n",
       "  {'role': 'assistant',\n",
       "   'content': '스웨터의 유래는 14세기경 북유럽항구지역에서 어망을 짜던 기술을 의복에 활용하면서 시작되었습니다. 노동자들의 방한복에서 시작된 스웨터는 여가생활과 스포츠의 붐에 힘입어 대중화되었습니다. 이후, 겨울철 이너웨어의 대명사가 되었습니다. 스웨터는 짜서(Knit) 만든 옷을 말하며, 어부들의 방한복으로 짜여졌던 스웨터 중에서도 스코틀랜드 해안지방의 여인들은 바다로 나가는 남편이나 연인, 자식들에게 무사히 돌아올 것을 기원하며 로프나 닻 무늬를 정성껏 짜넣었다고 합니다. 그 실용성과 정성이 오늘에까지 이어지고 있습니다.'}],\n",
       " [{'role': 'user',\n",
       "   'content': '토성의 고리가 빛의 띠로 보이는 이유는 무엇인가요?  \\n\\n토성의 고리는 얼음과 같은 여러 물질로 이루어져 있다고 알고 있는데, 카시니가 찍은 사진에서 마치 빛의 띠 처럼 보이는 이유가 무엇인가요? 물질의 공전 속도가 빠르기 때문에 카메라로 담았을 때 빛의 궤적으로 보이는 건가요? 또한, 야간에 빠르게 움직이는 자동차를 장노출로 찍었을 때 빛의 궤적이 생기는 것과 같은 원리일까요? 그리고 빛의 궤적이 생기는 것은 우주라는 어두운 환경 특성 때문이라고 생각됩니다. 이게 맞을까요?'},\n",
       "  {'role': 'assistant',\n",
       "   'content': '토성의 고리가 미세한 입자들로 이루어져 있기 때문에, 입자들의 밀도 차이 때문에 카시니 탐사선에서 찍은 고해상도 사진에서 빛의 띠가 보이는 것입니다.  \\n\\n실제로는 토성의 고리 입자들의 운동이 장노출 사진에서 잔상이 생기는 이유와 관련이 없습니다. 물체의 운동은 토성의 고리가 매끄럽게 보이는 이유와 상관이 없습니다. \\n\\n밀도 차이로 생긴 미세한 입자들의 밀도는 연속적인 것이 아니며 광학계의 분해능으로 인해 고해상도 사진에서 입자 간격이 잘 보이지 않습니다. 따라서, 토성의 고리가 빛의 띠로 보이는 것은 고리 입자밀도의 차이 때문입니다. \\n\\n이렇게 입자들의 밀도 차이가 빛의 띠처럼 보이는 것은, 마치 축구장에서 앉아 조각판처럼 보이는 것과 같은 현상으로 이해할 수 있습니다. 마찬가지로, 먼 광활지에서 숲은 보이고 나무는 안 보이며, 이것은 발생하는 현상과 유사합니다.\\n\\n더 자세한 사항을 알고 싶다면 우주선이 고리를 아주 가까이 찍어 볼 필요가 있습니다. 이것은 훨씬 상세한 데이터를 얻기 위해서는 더욱 다양한 탐사가 필요합니다.'}],\n",
       " [{'role': 'user',\n",
       "   'content': '화장품 OEM과 화장품 ODM의 차이점은 무엇인가요?\\n화장품 자체 제조 브랜드 런칭을 위해 OEM과 ODM용어에 대해 혼란스러움을 느끼고 있습니다. 두 용어의 차이점이 무엇인지 알고 싶습니다.'},\n",
       "  {'role': 'assistant',\n",
       "   'content': '화장품 제조업체는 대체로 OEM과 ODM을 통해 제품을 만듭니다. OEM은 브랜드에서 제품을 주문하였을 때, 반제품이나 완제품으로 납품받는 방식입니다. 반면 ODM은 자체 개발 능력을 갖춘 제조원이 유통까지 담당하여 상품을 공급하는 방식입니다. ODM은 직접 연구 개발을 통해 제품을 만들어주는 점에서 OEM과 차이가 있습니다. 대표적인 OEM/ODM 기업에는 코스맥스, 오울코리아, 한국콜마 등이 있습니다. 최근에는 OEM과 ODM의 경계가 허물어지고 있어 브랜딩부터 용기와 케이스 디자인까지 전반적인 제품 제조를 담당하는 기업도 많습니다. 이를 바탕으로, OEM은 브랜드에서 주문한 제품을 납품받고, ODM은 직접 개발하여 유통까지 책임지는 차이점이 있습니다.'}],\n",
       " [{'role': 'user',\n",
       "   'content': \"'사이보그'는 언제 처음 등장한 말이며, 그 의미와 종류에는 어떤 것이 있는지 알고 싶습니다.\"},\n",
       "  {'role': 'assistant',\n",
       "   'content': \"'사이보그'는 1960년에 처음 등장한 말로, 기계와 유기체가 합성되어 생겨난 새로운 개념을 나타냅니다. 주로 공상과학영화에서 등장하며, 1985년 페미니스트인 도나 해러웨이가 발표한 '사이보그를 위한 선언문'으로 인해 사이보그는 성차별 사회를 극복하는 사회정치적 상징으로 더욱 주목받게 되었습니다. 사이보그는 생물체와 기술적 개입이 결합된 다양한 종류가 있으며, 이제는 인공장기를 받은 사람, 예방접종을 받은 사람, 또는 사람과 기계가 결합된 베리칩과 같은 기술적 개입을 받은 사람들까지 우리 주변에서 만날 수 있습니다. \\n\\n또한, 지구 위치 파악 기능이나 신체 건강 상태를 감지하는 센서 등을 추가적으로 부착하면서 사이보그의 구조와 기능이 더욱 다양해지고 있습니다. 이러한 발전은 사이보그의 대중화를 가속화시키고 있으나, 범죄나 인권 침해 등의 문제가 발생할 가능성도 존재합니다.\"}],\n",
       " [{'role': 'user', 'content': '씨앗을 냉장 처리후 심는 이유와 장기보존하려면 어떻게 해야 할까요?'},\n",
       "  {'role': 'assistant',\n",
       "   'content': '1. 씨앗을 발아과정에서 냉장실에 보관후 심는 이유는 씨앗에는 휴면기간이 있기 때문입니다. 몇 년 동안도 휴면기간이 있는 경우가 있으며, 이러한 경우 계절의 변화 등을 거치며 발아할 준비가 됩니다. 이러한 식물 중 대표적으로 잣나무가 있으며, 노천매장을 할 경우 1~2년 후에 발아하기 때문에 썩지 않도록 이를 방지하기 위해 냉장보관 후 심을 수 있습니다.\\n2. 지금 당장 심지 않을 씨앗을 장기보존하려면, 식물의 종류에 따라 냉장보관 또는 냉동보관이 가능합니다. 대부분의 경우 냉장보관이 가능하지만, 일부의 식물은 냉동보관이 필요합니다. 보관하기 전에 씨앗을 완전히 건조시켜야 하며, 흡습지 장소에 보관하거나 실온보다는 낮은 온도(2~10도)에서 보관하는 것이 좋습니다. 이렇게 보관했을 경우 씨앗의 보존기간은 상대적으로 길어지게 되며, 필요할 때마다 사용할 수 있습니다.'}],\n",
       " [{'role': 'user', 'content': '야구 글러브의 종류와 포지션별 특징은 무엇인가요?'},\n",
       "  {'role': 'assistant',\n",
       "   'content': '보통 4칸으로 그물처럼 되어있는 것이 내야글러브이며, 1루를 제외한 내야 전 포지션에서 사용 가능합니다. 그물처럼 촘촘히 되어있는 것이 외야글러브이며, 우익수, 중견수, 좌익수에서 사용 가능합니다. 투수 글러브는 그립이 보이지 않도록 막혀 있습니다. 포수와 1루수는 글러브가 아닌 미트를 사용합니다.'}],\n",
       " [{'role': 'user', 'content': 'OPEC+와 OPEC의 차이점은 무엇인가요?'},\n",
       "  {'role': 'assistant',\n",
       "   'content': '석유 수출 기구(OPEC)와 러시아 등 10개 주요 산유국의 연합체(OPEC+)가 있습니다. OPEC은 1960년 9월 이라크, 이란, 쿠웨이트, 사우디아라비아, 베네수엘라가 바그다드에서 창설한 국제기구이며, 현재 이라크, 이란, 쿠웨이트, 사우디아라비아, 베네수엘라, 리비아, 아랍에미리트(UAE), 알제리, 나이지리아, 에콰도르, 앙골라 등 14개국으로 구성되어 있습니다. OPEC의 목표는 석유 가격을 안정시키는 것입니다. 반면, OPEC+는 러시아와 미국, 멕시코, 노르웨이, 카자흐스탄, 아제르바이잔 등 10개의 주요 산유국이 연합하여 조정하는 그룹입니다. OPEC+은 석유 생산을 감축하여 석유 가격을 안정시키는 것을 목표로 하고 있습니다.'}],\n",
       " [{'role': 'user', 'content': '광해군은 폭군이었나요? 그 업적은 어땠나요?'},\n",
       "  {'role': 'assistant',\n",
       "   'content': '광해군이 폭군인가에 대해서는 서인, 인조, 인목대비 등의 시각에서는 폭군이라고 말하지만, 역사적으로는 패자이기 때문에 그들의 시각만 볼 수는 없습니다. 광해군의 업적으로는 산림 숭용, 실리 외교, 경기도 대동법 시행, 양전 사업 등이 있습니다. 이 외에도 궁궐 수리와 건립, 서적 간행, 후금과의 협상 등 광해군의 업적은 매우 다양합니다. 하지만 광해군의 행동으로 서인들과 인목왕후, 능양군 등에게 원한을 진행하다보니 대물림, 폐위 등을 결심하게 되었고, 이것이 폭군으로 비치게 됩니다.'}],\n",
       " [{'role': 'user',\n",
       "   'content': '안과에서 눈치료할 때 쓰는 빨간 불은 무엇인가요? 그리고 눈을 감고 있는 이유는 무엇인가요?'},\n",
       "  {'role': 'assistant',\n",
       "   'content': '안과에서 눈을 치료할 때 사용하는 빨간 불은 적외선입니다. 이때, 적외선은 눈을 감은 채 1분 정도 적외선을 받아보면서, 눈 아래에 있는 피부 분자들의 움직임을 좋게 해주어 눈의 회복 속도를 빠르게 합니다. 이러한 치료로 눈이 빨리 회복될 수 있기 때문에 보통 안과에서 많이 사용합니다. 이 치료는 코와 귀 등 다른 부위에서도 사용할 수 있으며, 이때는 이비인후과에서 적외선 치료기를 사용합니다.'}]]"
      ]
     },
     "execution_count": 32,
     "metadata": {},
     "output_type": "execute_result"
    }
   ],
   "source": [
    "sample_train = list(map(make_propt, sample_dataset))\n",
    "sample_train"
   ]
  },
  {
   "cell_type": "markdown",
   "id": "0673368a",
   "metadata": {},
   "source": [
    "## 내 데이터"
   ]
  },
  {
   "cell_type": "code",
   "execution_count": 34,
   "id": "ab278347",
   "metadata": {},
   "outputs": [
    {
     "data": {
      "text/plain": [
       "DatasetDict({\n",
       "    train: Dataset({\n",
       "        features: ['input', 'output'],\n",
       "        num_rows: 3\n",
       "    })\n",
       "})"
      ]
     },
     "execution_count": 34,
     "metadata": {},
     "output_type": "execute_result"
    }
   ],
   "source": [
    "mydataset = load_dataset(\"json\", data_files=\"mydataset.json\")\n",
    "mydataset"
   ]
  },
  {
   "cell_type": "code",
   "execution_count": 56,
   "id": "93f058e6",
   "metadata": {},
   "outputs": [],
   "source": [
    "def make_propt(data):\n",
    "    return [\n",
    "        {\"role\" : \"user\", \"content\" : data['input']},\n",
    "        {\"role\" : \"assistant\", \"content\" : data['output']}\n",
    "    ]"
   ]
  },
  {
   "cell_type": "code",
   "execution_count": 39,
   "id": "794b3b60",
   "metadata": {},
   "outputs": [
    {
     "data": {
      "text/plain": [
       "[[{'role': 'user', 'content': '안녕'},\n",
       "  {'role': 'assistant', 'content': '안녕하세요.'}],\n",
       " [{'role': 'user', 'content': '고마워'},\n",
       "  {'role': 'assistant', 'content': '천만에요.'}],\n",
       " [{'role': 'user', 'content': '미안해'},\n",
       "  {'role': 'assistant', 'content': '괜찮아요.'}]]"
      ]
     },
     "execution_count": 39,
     "metadata": {},
     "output_type": "execute_result"
    }
   ],
   "source": [
    "my_train = list(map(make_propt, mydataset['train']))\n",
    "my_train"
   ]
  },
  {
   "cell_type": "markdown",
   "id": "da811324",
   "metadata": {},
   "source": [
    "---"
   ]
  },
  {
   "cell_type": "markdown",
   "id": "e407ee0b",
   "metadata": {},
   "source": [
    "## 다른 데이터 가져오기"
   ]
  },
  {
   "cell_type": "code",
   "execution_count": 67,
   "id": "64de982c",
   "metadata": {},
   "outputs": [
    {
     "data": {
      "text/plain": [
       "DatasetDict({\n",
       "    train: Dataset({\n",
       "        features: ['original', 'summary'],\n",
       "        num_rows: 24300\n",
       "    })\n",
       "})"
      ]
     },
     "execution_count": 67,
     "metadata": {},
     "output_type": "execute_result"
    }
   ],
   "source": [
    "dataset = load_dataset(\"jaehy12/news3\")\n",
    "dataset"
   ]
  },
  {
   "cell_type": "code",
   "execution_count": 71,
   "id": "e2eac7df",
   "metadata": {},
   "outputs": [],
   "source": [
    "def make_propt(data, user_key, assistant_key):\n",
    "    return {\n",
    "        \"test\":\n",
    "        [\n",
    "            {\"role\" : \"user\", \"content\" : data[user_key]},\n",
    "            {\"role\" : \"assistant\", \"content\" : data[assistant_key]}\n",
    "        ]   \n",
    "    }"
   ]
  },
  {
   "cell_type": "code",
   "execution_count": 72,
   "id": "d3b7b5af",
   "metadata": {},
   "outputs": [
    {
     "data": {
      "text/plain": [
       "{'original': '오거돈 전 부산시장의 성추행 사건이 불거진 후 정치권을 중심으로 여권이 이 사실을 사전에 몰랐을까 하는 의문이 커지고 있다.\\n  미래통합당은 여권이 총선을 의식해 조직적으로 오 전 시장의 사퇴 시기를 조율했다는 의혹을 제기하고 있다.\\n  반면 민주당은 이를 강하게 부인하면서 진실공방 양상으로 번지고 있다.\\n   23일 부산성폭력상담소(이하 상담소)와 부산시 등에 따르면 사건이 발생한 시기는 4월 초다.\\n  오 전 시장으로부터 성추행 피해를 본 공무원은 이날 입장문을 통해 “이달 초 오 전 시장 수행비서의 호출을 받았다.\\n  처음 있는 일이었다.\\n  업무시간이었고, 업무상 호출이라는 말에 서둘러 집무실로 갔고 그곳에서 성추행을 당했다”고 말했다.\\n   이 공무원은 피해를 본 다음날 바로 부산성폭력상담소를 찾아 도움을 요청했다.\\n  이후 상담소의 도움을 받아 오 전 시장의 정무라인 중 한 명을 통해 사퇴하라고 요구했다.\\n  이어 양측이 사퇴를 법적으로 보장받기 위해 공증하는 과정에 4월 말이라는 시한이 정해졌다.\\n   피해 공무원이 오 전 시장을 찾아간 날 비서실에는 5~6명의 인원이 있었다.\\n  대부분이 일반 공무원이고 1명 정도만 오 시장이 데려온 정무직 공무원인 것으로 전해졌다.\\n  하지만 그날 오 전 시장의 집무실에서 무슨 일이 있었는지 아는 공무원은 한명도 없다는 것이 부산시 측의 설명이다.\\n  부산시 한 고위 공무원은 “(오 전 시장이 기자회견을 하기까지 성추행 사실을) 전혀 몰랐다.\\n  기자회견을 한다는 사실 자체도 정무라인을 통해 알았고 그 내용도 회견 15분 전에서야 통보 받았을 정도.\\n  일부 정무라인만 알았던 듯하다”라며 “오 전 시장도 정무라인도 모두 짐을 싸고 시청을 나갔는데 정말 괘씸하다.\\n  쑥대밭을 만들어 놓고 나가 직원들 모두 ‘멘붕’ 상태다”고 했다.\\n  여정섭 부산시 노조위원장은 “직원들 모두 전혀 꿈도 꾸지 못한 일이다.\\n  보좌진들마저도 금시초문이었다고 들었다.\\n  오늘(23일) 오전 9시에 오 전 시장 기자회견이 잡혔다는 말을 듣고 처음엔 정무라인 교체 관련 이야기를 하겠거니 생각했는데 갑자기 성추행 이야기가 나왔다”고 전했다.\\n   부산시의 오 전 시장 정무라인은 10여명 정도다.\\n  하지만 이날 오 시장이 사퇴 직후 이들 정무라인들도 모두 짐을 싸 시청을 떠난 뒤 연락이 닿지 않고 있다.\\n  이들 대부분에게 ‘오 전 시장 성추행 사건을 언제 알았는지, 민주당 등 여권 측과 이 내용을 상의한 적이 있는지, 피해자에게 사퇴 시기를 요구한 적이 있는지’ 등을 다시 확인하기 위해 수차례 전화를 했으나 연락을 받지 않았다.\\n ',\n",
       " 'summary': '오거돈 전 부산시장의 성추행 사건이 불거진 후 정치권을 중심으로 여권이 이 사실을 사전에 몰랐을까 하는 의문이 커지고 있다. 반면 민주당은 이를 강하게 부인하면서 진실공방 양상으로 번지고 있다.'}"
      ]
     },
     "execution_count": 72,
     "metadata": {},
     "output_type": "execute_result"
    }
   ],
   "source": [
    "dataset['train'][0]"
   ]
  },
  {
   "cell_type": "code",
   "execution_count": 73,
   "id": "9e4a4a04",
   "metadata": {},
   "outputs": [
    {
     "data": {
      "text/plain": [
       "{'test': [{'role': 'user',\n",
       "   'content': '오거돈 전 부산시장의 성추행 사건이 불거진 후 정치권을 중심으로 여권이 이 사실을 사전에 몰랐을까 하는 의문이 커지고 있다.\\n  미래통합당은 여권이 총선을 의식해 조직적으로 오 전 시장의 사퇴 시기를 조율했다는 의혹을 제기하고 있다.\\n  반면 민주당은 이를 강하게 부인하면서 진실공방 양상으로 번지고 있다.\\n   23일 부산성폭력상담소(이하 상담소)와 부산시 등에 따르면 사건이 발생한 시기는 4월 초다.\\n  오 전 시장으로부터 성추행 피해를 본 공무원은 이날 입장문을 통해 “이달 초 오 전 시장 수행비서의 호출을 받았다.\\n  처음 있는 일이었다.\\n  업무시간이었고, 업무상 호출이라는 말에 서둘러 집무실로 갔고 그곳에서 성추행을 당했다”고 말했다.\\n   이 공무원은 피해를 본 다음날 바로 부산성폭력상담소를 찾아 도움을 요청했다.\\n  이후 상담소의 도움을 받아 오 전 시장의 정무라인 중 한 명을 통해 사퇴하라고 요구했다.\\n  이어 양측이 사퇴를 법적으로 보장받기 위해 공증하는 과정에 4월 말이라는 시한이 정해졌다.\\n   피해 공무원이 오 전 시장을 찾아간 날 비서실에는 5~6명의 인원이 있었다.\\n  대부분이 일반 공무원이고 1명 정도만 오 시장이 데려온 정무직 공무원인 것으로 전해졌다.\\n  하지만 그날 오 전 시장의 집무실에서 무슨 일이 있었는지 아는 공무원은 한명도 없다는 것이 부산시 측의 설명이다.\\n  부산시 한 고위 공무원은 “(오 전 시장이 기자회견을 하기까지 성추행 사실을) 전혀 몰랐다.\\n  기자회견을 한다는 사실 자체도 정무라인을 통해 알았고 그 내용도 회견 15분 전에서야 통보 받았을 정도.\\n  일부 정무라인만 알았던 듯하다”라며 “오 전 시장도 정무라인도 모두 짐을 싸고 시청을 나갔는데 정말 괘씸하다.\\n  쑥대밭을 만들어 놓고 나가 직원들 모두 ‘멘붕’ 상태다”고 했다.\\n  여정섭 부산시 노조위원장은 “직원들 모두 전혀 꿈도 꾸지 못한 일이다.\\n  보좌진들마저도 금시초문이었다고 들었다.\\n  오늘(23일) 오전 9시에 오 전 시장 기자회견이 잡혔다는 말을 듣고 처음엔 정무라인 교체 관련 이야기를 하겠거니 생각했는데 갑자기 성추행 이야기가 나왔다”고 전했다.\\n   부산시의 오 전 시장 정무라인은 10여명 정도다.\\n  하지만 이날 오 시장이 사퇴 직후 이들 정무라인들도 모두 짐을 싸 시청을 떠난 뒤 연락이 닿지 않고 있다.\\n  이들 대부분에게 ‘오 전 시장 성추행 사건을 언제 알았는지, 민주당 등 여권 측과 이 내용을 상의한 적이 있는지, 피해자에게 사퇴 시기를 요구한 적이 있는지’ 등을 다시 확인하기 위해 수차례 전화를 했으나 연락을 받지 않았다.\\n '},\n",
       "  {'role': 'assistant',\n",
       "   'content': '오거돈 전 부산시장의 성추행 사건이 불거진 후 정치권을 중심으로 여권이 이 사실을 사전에 몰랐을까 하는 의문이 커지고 있다. 반면 민주당은 이를 강하게 부인하면서 진실공방 양상으로 번지고 있다.'}]}"
      ]
     },
     "execution_count": 73,
     "metadata": {},
     "output_type": "execute_result"
    }
   ],
   "source": [
    "train = list(\n",
    "    map(lambda d: make_propt(d, \"original\", \"summary\"), dataset['train'])\n",
    ")\n",
    "train[0]"
   ]
  }
 ],
 "metadata": {
  "kernelspec": {
   "display_name": "DeepLearning-LLM-Study (3.10.18)",
   "language": "python",
   "name": "python3"
  },
  "language_info": {
   "codemirror_mode": {
    "name": "ipython",
    "version": 3
   },
   "file_extension": ".py",
   "mimetype": "text/x-python",
   "name": "python",
   "nbconvert_exporter": "python",
   "pygments_lexer": "ipython3",
   "version": "3.10.18"
  }
 },
 "nbformat": 4,
 "nbformat_minor": 5
}
